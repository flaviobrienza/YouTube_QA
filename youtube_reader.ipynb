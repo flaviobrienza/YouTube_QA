{
 "cells": [
  {
   "cell_type": "markdown",
   "metadata": {},
   "source": [
    "# YouTube Video RAG   \n",
    "\n",
    "The purpose here is to build a YouTube Video RAG using tools, vector DB and chains. "
   ]
  },
  {
   "cell_type": "markdown",
   "metadata": {},
   "source": [
    "## Importing Libraries"
   ]
  },
  {
   "cell_type": "code",
   "execution_count": 1,
   "metadata": {},
   "outputs": [],
   "source": [
    "import langchain \n",
    "from langchain.embeddings import OpenAIEmbeddings \n",
    "from langchain.chat_models import ChatOpenAI \n",
    "from langchain.llms import OpenAI\n",
    "from langchain.tools import YouTubeSearchTool \n",
    "from langchain.agents import initialize_agent, AgentType \n",
    "from langchain.vectorstores import FAISS  \n",
    "from langchain.document_loaders import YoutubeLoader\n",
    "from langchain.text_splitter import RecursiveCharacterTextSplitter \n",
    "from langchain.chains import RetrievalQA \n",
    "\n",
    "from secret_api_key import openaikey "
   ]
  },
  {
   "cell_type": "markdown",
   "metadata": {},
   "source": [
    "## Agent   \n",
    "\n",
    "In this case the YouTubeSearchTool will be used inside an agent. It provides the link of the YouTube video based on the searched topic.  \n",
    "\n",
    "In this way it is possible to obtain the string of the video url only."
   ]
  },
  {
   "cell_type": "code",
   "execution_count": 2,
   "metadata": {},
   "outputs": [],
   "source": [
    "def youtube_searcher(video_topic, n_results=1):\n",
    "    llm = OpenAI(temperature=0, openai_api_key=openaikey)\n",
    "    tools = [YouTubeSearchTool()] \n",
    "    agent = initialize_agent(\n",
    "        llm=llm, \n",
    "        tools=tools,\n",
    "        agent=AgentType.ZERO_SHOT_REACT_DESCRIPTION\n",
    "    )\n",
    "    query = f'Provide me the video URL about the following topic: {video_topic}. There must be {n_results} URLS in total.' \n",
    "    return agent.run(query)"
   ]
  },
  {
   "cell_type": "code",
   "execution_count": 3,
   "metadata": {},
   "outputs": [
    {
     "data": {
      "text/plain": [
       "'https://www.youtube.com/watch?v=IxEIND2vtnU&pp=ygUWT3BlbkFJIERldiBEYXkgU3VtbWFyeQ%3D%3D'"
      ]
     },
     "execution_count": 3,
     "metadata": {},
     "output_type": "execute_result"
    }
   ],
   "source": [
    "youtube_searcher('openai dev day summary')"
   ]
  },
  {
   "cell_type": "markdown",
   "metadata": {},
   "source": [
    "This is a summary of the OpenAI Dev Day. "
   ]
  },
  {
   "cell_type": "markdown",
   "metadata": {},
   "source": [
    "## Vector Store  \n",
    "\n",
    "The vector store where the embeddings will be stored."
   ]
  },
  {
   "cell_type": "code",
   "execution_count": 16,
   "metadata": {},
   "outputs": [],
   "source": [
    "def vector_db_creator(query):\n",
    "    video_transcript = YoutubeLoader.from_youtube_url(youtube_searcher(video_topic=query)).load()\n",
    "    split_transcript = RecursiveCharacterTextSplitter(chunk_size=1000, chunk_overlap=10).split_documents(video_transcript)\n",
    "    embeddings = OpenAIEmbeddings(openai_api_key=openaikey) \n",
    "    vector_store = FAISS.from_documents(split_transcript, embeddings) \n",
    "    return vector_store \n"
   ]
  },
  {
   "cell_type": "code",
   "execution_count": 8,
   "metadata": {},
   "outputs": [
    {
     "data": {
      "text/plain": [
       "[Document(page_content=\"so open AI had their big Dev day on Monday and in this video I'm just going to try and give you all of the important points quick and easy so that you can understand exactly what this could mean for you and your business and it doesn't matter if you're a developer or not there is some incredible stuff that was announced in this big conference so let's start getting through it right now and we'll go through the first big sort of update which is gp4 Turbo is here and it hasn't actually arrived within our chat GPT account yet my one at least but it's being rolled out apparently very very soon and along with that there's the ability to use all of the features such as these here these uh like the browse with Bing the Advanced Data analysis plugins that all within just the one chat GPT 4 Turbo so no more switching from one thing to the other which you probably have already realized can be quite annoying sometime if you if you use chat GPT and so the GPT 4 Turbo is now available in the API so it's supposed to be more intelligent it's supposed to be faster than gp4 and um it has the ability to use all of those things in the one place this is also huge it can now take in a huge amount of data in one go we're talking like 300 Page PDF for example can now be imported and gp4 turbo will be able to cope with it but also apparently do a better job than what gp4 could have done as well so that's a a huge issue for a lot of people was not being able to upload big documents and have it analyze Claude which is by anthropic was able to do quite a bit I think it was from memory 64,000 tokens but not as as much as this so this is a massive update for everyone anyway and it's more than 50% cheaper than GPT 4 so they've managed to program it and trim and streamline it to be even more efficient so it costs less the April the 2023 is now the cut off date so previous to that it was September 20 uh 21 Sam ultman also said that it frustrated them as much as it did chat GPT users like ourselves which was good to know that it bugs them too so hopefully they're going to bring it up to date that is their goal is to bring it right up to date now obviously we have the chance to go online using the browse with Bing and get current information but as a whole the chat GPT database did not have knowledge uh you know after September 21 so now getting there April 23 this video is been done in November so we're not too far behind next up is the improved performance from GPT 4 it is a lot faster as I say so that is fantastic hence the name turbo if you remember we had GPT 3.5 and then that went to Turbo as well uh it can provide images alongside your text input prompt via the API so that is uh pretty amazing and then there's a new Json mode that forces GPT to respond in pure Json now I'm not a developer but I understand that that is a really useful addition so there you go so th those are the GPT 4 Turbo things that came out so gp4 turbo is going to be fantastic and I guess at some point the next update will probably be gp5 now another huge announcement and this one is more appropriate and more interesting for just normal people and not developers because you're going to be able to develop your own GPT apps for use within chat GPT using uh their GPT Builder and you can build your own custom GPT that is uh designed to do one specific thing and you know that could be like helping you become a better writer or helping you with SEO or any of that stuff so that's going to be amazing and I suppose the biggest thing is is that you're going to be able to have this in an App Store so there's going to be a GPT App Store that you can sell these apps in um and so you don't even need to use coding now to make this you can literally um Sam ultman did a demo where you literally just talk and say right I want to build my uh GPT app to do this this and this and it starts building on the right hand side of the window and you can actually see it being done and then once it's ready you can just put it into the App Store and other people can use it if you want to do that uh and then Enterprises are big companies they can make their own organization uh specific customer some gpts that aren't available in the marketplace and use it within their own company and to begin with they're giving us two Uh custom gpts kind of ready to go within a chat GPT and that will be with canva and zapia so two very powerful Uh custom gpts there they gave a quick demo of the canva one and it was sort of being used to create uh slides using canva but to be honest with you I'd still use just canva over that uh you'll see why when you see the demo I'm going to put a link to the full presentation underneath but we're getting through this pretty quick and this will save you a lot of time than watching the hour presentation so the GPT store this is a huge thing this is a great way for people who want to make money with chat GPT you actually now can by creating really useful custom uh chat gpts that you can sell in their App Store but the the interesting thing is is that they are are going to provide like some sort of Revenue share program I guess like anyone like an Apple App Store and so on you know you do a share of the revenue or Google Android but it didn't didn't really say like everybody so we don't know how much money each sale will get and how much they'll take from it and also we don't know if everyone's going to get it because the way he phrased it was um I think where authors receive of popular of popular uh gpts will earn a Revenue share the most used so it's it was sort of insinuating in my mind that not everyone's going to be able to get a revenue share any the very best apps which may be a way of just stopping people uploading loads of rubbish basically then we've got the assistance API so this is where you can kind of create again almost like a custom GPT but via the API that's designed to do all kinds of different tasks and you can even use code interpreter uh which is amazing with in the and darly uh so also incredible they gave a great demo of this in the presentation which is worth watching where they kind of created a travel advisor um which was very very clever and and we're getting very close to that AGI you know that's that's a system where you can create agents to do specific tasks using um artificial intelligence so they're doing a really good job of kind of building this at the moment I'm going to show you in a second what one you know looks like uh there's three tools that you can use code interpreter retrieval which is where it goes and accesses custom knowledge that you upload to it and then function calling as well so it can then go and do other things offline or sorry online um which is pretty crazy and I had a little go with it and um I'll show you in just a second but just like with a normal API you can specify its role via custom instruction as well and here it is in playground and I had a little play with it and playground and look what I was able to do so I created an assistant that is using the latest version of GPT 4 and then what I wanted it to do is I created a weather assistant and I put tell me the weather in an upbeat and Funway for the location of London England that's kind of its instruction and then the function is to get the weather um I've also enabled code interpreters so that it can create charts and things with the information that it pulls in and then um retrieval there we don't need that at the moment cuz I haven't uploaded any additional information but if I wanted to I could upload more files for it to use to create its answers and then I typed in like what's the weather today here we go and then I had to submit true and then it's done uh hold on for just a moment while I check the current weather for London England it feels like peering into a weather crystal ball oh so magical so it's kind of in you know inserted that upbeat fun way of of doing things given the weather report which is really cool but then I asked it to create a weather chart for the next 5 days which it was able to do and so there you go look at that now I've said can you rebuild it using a bar chart because it's just clear and easier and again it's given that weather report underneath uh voila our weather Symphony now takes the stage as a bar chart with a harmonious medley of temperatures so crazy stuff you can build all sorts of things if you're a developer at the moment you just you're just going to be so busy there's so many things you can build now and even if you're not then you can build gpts so uh there's so much opportunity has been created by this uh this open AI it's crazy now if you're into open Ai and you're into chat gbt you're going to love my free group by the way come and join there a link underneath this video uh chat gbt users we've got over 8,000 members now and we're all talking about Ai and uh you know just about everything to do with artificial intelligence open AI chat gbt Claude you name it so come and join it's free um love to have you there now getting back to other things that were released in the open um AI Dev day whisper text to speech um they've released the tts1 and tts1 HD models the tts1 model is optimized for Speed and tts1 HD is for the quality and they gave some demos of how good this text to speech engine is now you can choose from one out of the six voice types and then you can create a realistic sounding human speech from the API and I'm going to do another video on some of the uh some things that developers have already created just playing around with this uh new features that you have with the API now with open Ai and some of the things are incredible I'm going to go and show you that in another video video like I say but there there it's mindblowing now what you can create using this technology I can assure you uh other cool stuff that was announced as well uh so Dal e is available in the API that means you can upload images or create images using Dar based on text prompts and whatever else you want to do uh code interpreter is also now available in the API so that's very very useful for analyzing data creating charts as you just saw in the playground there and then GPT 3.5 and four costs have all been reduced in an effort again to sort of help developers and encourage developers to start creating and using those two technologies but for me out of all of the things that were said in that Dev they amazing as they were there was just one thing that Sam ultman said which really got me excited and it probably um slipped past a lot of people because a lot of people would have switched off once he'd finished doing the main presentation but the thing that he said was this we hope you'll come back next year what we launch today is going to look very quaint relative to what we're busy creating for you now so I have no idea what mine melting stuff he is going to be announcing next year but this was crazy enough so I think we can all see that artificial intelligence has gone ballistic at the moment it's just taken another huge upturn and if you found this interesting and useful please do hit that like button let YouTube know and I'll also do some more videos on how you can start using this incredible uh new technology that's available to us in business and in life and once again don't forget to join the free group here with uh over 8,000 members it's completely free come and join in and we can all talk about uh you know Ai and chat gbt till our hearts content thanks very much for watching this video and I'll see you in another one real [Music] soon\", metadata={'source': 'IxEIND2vtnU'})]"
      ]
     },
     "execution_count": 8,
     "metadata": {},
     "output_type": "execute_result"
    }
   ],
   "source": [
    "YoutubeLoader.from_youtube_url(youtube_searcher(video_topic='openai dev day summary')).load()"
   ]
  },
  {
   "cell_type": "markdown",
   "metadata": {},
   "source": [
    "## Retrieval QA Chain  \n",
    "\n",
    "The chain that will return answers to the questions. "
   ]
  },
  {
   "cell_type": "code",
   "execution_count": 17,
   "metadata": {},
   "outputs": [],
   "source": [
    "retriever = vector_db_creator('openai dev day summary')\n",
    "\n",
    "qa_llm = ChatOpenAI(temperature=.7, model='gpt-3.5-turbo-1106', openai_api_key = openaikey)\n",
    "\n",
    "qa_chain = RetrievalQA.from_chain_type(chain_type='map_reduce', llm=qa_llm, retriever = retriever.as_retriever())"
   ]
  },
  {
   "cell_type": "code",
   "execution_count": 19,
   "metadata": {},
   "outputs": [
    {
     "data": {
      "text/plain": [
       "'Yes, the event did cover updates related to the API. Specifically, they announced the availability of GPT-4 Turbo in the API, which allows users to access all features, such as browsing with Bing and advanced data analysis plugins, within the same chat interface. This eliminates the need to switch between different tools, providing a more seamless user experience.'"
      ]
     },
     "execution_count": 19,
     "metadata": {},
     "output_type": "execute_result"
    }
   ],
   "source": [
    "qa_chain.run(\"I couldn't follow the event, did they talk about the API?\")"
   ]
  },
  {
   "cell_type": "markdown",
   "metadata": {},
   "source": [
    "## Conclusions   \n",
    "\n",
    "Like any other RAG pipeline, this can be considered powerful for long YouTube Videos.   \n",
    "\n",
    "The most important aspects to take into account to improve the results is the chunk size and the chunk overlap to manage how different parts of text are stored and retrieved later.  \n",
    "\n",
    "Further implementations could be done, like creating a permanent store with Chroma or trying the same pipeline with more agents. "
   ]
  }
 ],
 "metadata": {
  "kernelspec": {
   "display_name": "Python 3",
   "language": "python",
   "name": "python3"
  },
  "language_info": {
   "codemirror_mode": {
    "name": "ipython",
    "version": 3
   },
   "file_extension": ".py",
   "mimetype": "text/x-python",
   "name": "python",
   "nbconvert_exporter": "python",
   "pygments_lexer": "ipython3",
   "version": "3.10.2"
  }
 },
 "nbformat": 4,
 "nbformat_minor": 2
}
